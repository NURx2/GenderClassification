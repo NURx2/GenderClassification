{
 "cells": [
  {
   "cell_type": "markdown",
   "metadata": {
    "papermill": {
     "duration": 0.01667,
     "end_time": "2020-09-12T12:24:31.806744",
     "exception": false,
     "start_time": "2020-09-12T12:24:31.790074",
     "status": "completed"
    },
    "tags": []
   },
   "source": [
    "<img src='task.png' width='500px'>"
   ]
  },
  {
   "cell_type": "code",
   "execution_count": 2,
   "metadata": {
    "execution": {
     "iopub.execute_input": "2020-09-12T12:25:57.371636Z",
     "iopub.status.busy": "2020-09-12T12:25:57.370582Z",
     "iopub.status.idle": "2020-09-12T12:25:57.374219Z",
     "shell.execute_reply": "2020-09-12T12:25:57.373483Z"
    },
    "papermill": {
     "duration": 0.033712,
     "end_time": "2020-09-12T12:25:57.374368",
     "exception": false,
     "start_time": "2020-09-12T12:25:57.340656",
     "status": "completed"
    },
    "tags": []
   },
   "outputs": [],
   "source": [
    "import os\n",
    "import numpy as np\n",
    "import shutil\n",
    "from PIL import Image\n",
    "from matplotlib.pyplot import imshow\n",
    "from IPython.display import display\n",
    "%matplotlib inline"
   ]
  },
  {
   "cell_type": "code",
   "execution_count": 3,
   "metadata": {
    "execution": {
     "iopub.execute_input": "2020-09-12T12:25:57.458813Z",
     "iopub.status.busy": "2020-09-12T12:25:57.458054Z",
     "iopub.status.idle": "2020-09-12T12:25:57.461457Z",
     "shell.execute_reply": "2020-09-12T12:25:57.460699Z"
    },
    "papermill": {
     "duration": 0.028072,
     "end_time": "2020-09-12T12:25:57.461587",
     "exception": false,
     "start_time": "2020-09-12T12:25:57.433515",
     "status": "completed"
    },
    "tags": []
   },
   "outputs": [],
   "source": [
    "categories = ('male', 'female')\n",
    "root_dir = 'data'"
   ]
  },
  {
   "cell_type": "markdown",
   "metadata": {
    "papermill": {
     "duration": 0.020744,
     "end_time": "2020-09-12T12:25:57.776971",
     "exception": false,
     "start_time": "2020-09-12T12:25:57.756227",
     "status": "completed"
    },
    "tags": []
   },
   "source": [
    "<h1>Model Training</h1>"
   ]
  },
  {
   "cell_type": "code",
   "execution_count": 7,
   "metadata": {
    "execution": {
     "iopub.execute_input": "2020-09-12T12:25:57.825604Z",
     "iopub.status.busy": "2020-09-12T12:25:57.824637Z",
     "iopub.status.idle": "2020-09-12T12:25:59.359823Z",
     "shell.execute_reply": "2020-09-12T12:25:59.358760Z"
    },
    "papermill": {
     "duration": 1.56181,
     "end_time": "2020-09-12T12:25:59.359983",
     "exception": false,
     "start_time": "2020-09-12T12:25:57.798173",
     "status": "completed"
    },
    "tags": []
   },
   "outputs": [],
   "source": [
    "import torch\n",
    "import torchvision\n",
    "import torchvision.transforms as transforms\n",
    "import torch.nn as nn\n",
    "import torch.optim as optim"
   ]
  },
  {
   "cell_type": "code",
   "execution_count": 8,
   "metadata": {
    "execution": {
     "iopub.execute_input": "2020-09-12T12:25:59.409546Z",
     "iopub.status.busy": "2020-09-12T12:25:59.408421Z",
     "iopub.status.idle": "2020-09-12T12:25:59.411315Z",
     "shell.execute_reply": "2020-09-12T12:25:59.411876Z"
    },
    "papermill": {
     "duration": 0.029815,
     "end_time": "2020-09-12T12:25:59.412036",
     "exception": false,
     "start_time": "2020-09-12T12:25:59.382221",
     "status": "completed"
    },
    "tags": []
   },
   "outputs": [],
   "source": [
    "im_size = 32"
   ]
  },
  {
   "cell_type": "code",
   "execution_count": 9,
   "metadata": {
    "execution": {
     "iopub.execute_input": "2020-09-12T12:25:59.462822Z",
     "iopub.status.busy": "2020-09-12T12:25:59.462043Z",
     "iopub.status.idle": "2020-09-12T12:25:59.465792Z",
     "shell.execute_reply": "2020-09-12T12:25:59.465194Z"
    },
    "papermill": {
     "duration": 0.031813,
     "end_time": "2020-09-12T12:25:59.465917",
     "exception": false,
     "start_time": "2020-09-12T12:25:59.434104",
     "status": "completed"
    },
    "tags": []
   },
   "outputs": [],
   "source": [
    "transform = transforms.Compose([\n",
    "    #transforms.ToPILImage(),\n",
    "    # images have different sizes, so we need to resize them\n",
    "    transforms.Resize((im_size, im_size), interpolation=2),\n",
    "    transforms.ToTensor(),\n",
    "    # transform PIL image range [0, 1] to [-1, 1] (this helps in faster convergence)\n",
    "    transforms.Normalize((.5, .5, .5), (.5, .5, .5))])                                 "
   ]
  },
  {
   "cell_type": "code",
   "execution_count": 10,
   "metadata": {
    "execution": {
     "iopub.execute_input": "2020-09-12T12:25:59.518710Z",
     "iopub.status.busy": "2020-09-12T12:25:59.517623Z",
     "iopub.status.idle": "2020-09-12T12:25:59.521080Z",
     "shell.execute_reply": "2020-09-12T12:25:59.520372Z"
    },
    "papermill": {
     "duration": 0.033347,
     "end_time": "2020-09-12T12:25:59.521207",
     "exception": false,
     "start_time": "2020-09-12T12:25:59.487860",
     "status": "completed"
    },
    "tags": []
   },
   "outputs": [],
   "source": [
    "train_str = 'train'\n",
    "test_str = 'test'\n",
    "\n",
    "def load_dataset(name):\n",
    "    data_path = f'../input/male-female-faces/data/{name}/'\n",
    "    dataset = torchvision.datasets.ImageFolder(\n",
    "        root=data_path,\n",
    "        transform=transform\n",
    "    )\n",
    "    print(dataset)\n",
    "    loader = torch.utils.data.DataLoader(\n",
    "        dataset,\n",
    "        batch_size=64,\n",
    "        num_workers=0,\n",
    "        shuffle=True\n",
    "    )\n",
    "    return loader"
   ]
  },
  {
   "cell_type": "code",
   "execution_count": 11,
   "metadata": {
    "execution": {
     "iopub.execute_input": "2020-09-12T12:25:59.570801Z",
     "iopub.status.busy": "2020-09-12T12:25:59.569697Z",
     "iopub.status.idle": "2020-09-12T12:26:42.914854Z",
     "shell.execute_reply": "2020-09-12T12:26:42.914050Z"
    },
    "papermill": {
     "duration": 43.371887,
     "end_time": "2020-09-12T12:26:42.915035",
     "exception": false,
     "start_time": "2020-09-12T12:25:59.543148",
     "status": "completed"
    },
    "tags": []
   },
   "outputs": [
    {
     "name": "stdout",
     "output_type": "stream",
     "text": [
      "Dataset ImageFolder\n",
      "    Number of datapoints: 90000\n",
      "    Root location: ../input/male-female-faces/data/train/\n",
      "    StandardTransform\n",
      "Transform: Compose(\n",
      "               Resize(size=(32, 32), interpolation=PIL.Image.BILINEAR)\n",
      "               ToTensor()\n",
      "               Normalize(mean=(0.5, 0.5, 0.5), std=(0.5, 0.5, 0.5))\n",
      "           )\n",
      "Dataset ImageFolder\n",
      "    Number of datapoints: 10002\n",
      "    Root location: ../input/male-female-faces/data/test/\n",
      "    StandardTransform\n",
      "Transform: Compose(\n",
      "               Resize(size=(32, 32), interpolation=PIL.Image.BILINEAR)\n",
      "               ToTensor()\n",
      "               Normalize(mean=(0.5, 0.5, 0.5), std=(0.5, 0.5, 0.5))\n",
      "           )\n"
     ]
    }
   ],
   "source": [
    "trainloader = load_dataset(train_str)\n",
    "testloader = load_dataset(test_str)"
   ]
  },
  {
   "cell_type": "code",
   "execution_count": 12,
   "metadata": {
    "execution": {
     "iopub.execute_input": "2020-09-12T12:26:42.975253Z",
     "iopub.status.busy": "2020-09-12T12:26:42.969527Z",
     "iopub.status.idle": "2020-09-12T12:26:43.000767Z",
     "shell.execute_reply": "2020-09-12T12:26:43.000087Z"
    },
    "papermill": {
     "duration": 0.062877,
     "end_time": "2020-09-12T12:26:43.000898",
     "exception": false,
     "start_time": "2020-09-12T12:26:42.938021",
     "status": "completed"
    },
    "tags": []
   },
   "outputs": [],
   "source": [
    "class Net(nn.Module):\n",
    "    def __init__(self):\n",
    "        super(Net, self).__init__()\n",
    "        self.conv1 = nn.Conv2d(3, 6, 5)\n",
    "        self.pool = nn.MaxPool2d(2, 2)  # to calculate max of input patch values\n",
    "        self.conv2 = nn.Conv2d(6, 16, 5)\n",
    "        self.fc1 = nn.Linear(16 * 5 * 5, 120)  # fully connected layer\n",
    "        self.fc2 = nn.Linear(120, 84)\n",
    "        self.fc3 = nn.Linear(84, len(categories))\n",
    "\n",
    "    def forward(self, x):\n",
    "        x = self.pool(nn.functional.relu(self.conv1(x)))\n",
    "        x = self.pool(nn.functional.relu(self.conv2(x)))\n",
    "        x = x.view(-1, 16 * 5 * 5)  # make matrix (from tensor) having 16*5*5 columns (= numpy reshape)\n",
    "        x = nn.functional.relu(self.fc1(x))\n",
    "        x = nn.functional.relu(self.fc2(x))\n",
    "        x = self.fc3(x)\n",
    "        return x\n",
    "\n",
    "\n",
    "net = Net()"
   ]
  },
  {
   "cell_type": "code",
   "execution_count": 13,
   "metadata": {
    "execution": {
     "iopub.execute_input": "2020-09-12T12:26:43.054109Z",
     "iopub.status.busy": "2020-09-12T12:26:43.053199Z",
     "iopub.status.idle": "2020-09-12T12:26:43.056497Z",
     "shell.execute_reply": "2020-09-12T12:26:43.055903Z"
    },
    "papermill": {
     "duration": 0.032343,
     "end_time": "2020-09-12T12:26:43.056627",
     "exception": false,
     "start_time": "2020-09-12T12:26:43.024284",
     "status": "completed"
    },
    "tags": []
   },
   "outputs": [],
   "source": [
    "criterion = nn.CrossEntropyLoss()\n",
    "optimizer = optim.SGD(net.parameters(), lr=0.001, momentum=0.9)"
   ]
  },
  {
   "cell_type": "code",
   "execution_count": 14,
   "metadata": {
    "execution": {
     "iopub.execute_input": "2020-09-12T12:26:43.118681Z",
     "iopub.status.busy": "2020-09-12T12:26:43.117701Z",
     "iopub.status.idle": "2020-09-12T13:13:16.574397Z",
     "shell.execute_reply": "2020-09-12T13:13:16.575222Z"
    },
    "papermill": {
     "duration": 2793.492046,
     "end_time": "2020-09-12T13:13:16.575527",
     "exception": false,
     "start_time": "2020-09-12T12:26:43.083481",
     "status": "completed"
    },
    "tags": []
   },
   "outputs": [
    {
     "name": "stdout",
     "output_type": "stream",
     "text": [
      "Finished Training\n"
     ]
    }
   ],
   "source": [
    "for epoch in range(9):  # loop over the dataset multiple times\n",
    "\n",
    "    running_loss = 0.0\n",
    "    for i, (inputs, labels) in enumerate(trainloader):\n",
    "        # zero the parameter gradients\n",
    "        optimizer.zero_grad()\n",
    "\n",
    "        # forward + backward + optimize\n",
    "        outputs = net(inputs)\n",
    "        loss = criterion(outputs, labels)\n",
    "        loss.backward()\n",
    "        optimizer.step()\n",
    "\n",
    "        # print statistics\n",
    "        running_loss += loss.item()\n",
    "        if i % 2000 == 1999:    # print every 2000 mini-batches\n",
    "            print('[%d, %5d] loss: %.3f' %\n",
    "                  (epoch + 1, i + 1, running_loss / 2000))\n",
    "            running_loss = 0.0\n",
    "\n",
    "print('Finished Training')"
   ]
  },
  {
   "cell_type": "code",
   "execution_count": 15,
   "metadata": {
    "execution": {
     "iopub.execute_input": "2020-09-12T13:13:16.631030Z",
     "iopub.status.busy": "2020-09-12T13:13:16.630093Z",
     "iopub.status.idle": "2020-09-12T13:13:16.640117Z",
     "shell.execute_reply": "2020-09-12T13:13:16.639486Z"
    },
    "papermill": {
     "duration": 0.039807,
     "end_time": "2020-09-12T13:13:16.640240",
     "exception": false,
     "start_time": "2020-09-12T13:13:16.600433",
     "status": "completed"
    },
    "tags": []
   },
   "outputs": [],
   "source": [
    "PATH = './model.pth'\n",
    "torch.save(net.state_dict(), PATH)"
   ]
  },
  {
   "cell_type": "code",
   "execution_count": 16,
   "metadata": {
    "execution": {
     "iopub.execute_input": "2020-09-12T13:13:16.697968Z",
     "iopub.status.busy": "2020-09-12T13:13:16.697181Z",
     "iopub.status.idle": "2020-09-12T13:13:57.568894Z",
     "shell.execute_reply": "2020-09-12T13:13:57.569595Z"
    },
    "papermill": {
     "duration": 40.90517,
     "end_time": "2020-09-12T13:13:57.569777",
     "exception": false,
     "start_time": "2020-09-12T13:13:16.664607",
     "status": "completed"
    },
    "tags": []
   },
   "outputs": [
    {
     "name": "stdout",
     "output_type": "stream",
     "text": [
      "Accuracy of the network on the 500 test images: 94 %\n"
     ]
    }
   ],
   "source": [
    "correct = 0\n",
    "total = 0\n",
    "with torch.no_grad():\n",
    "    for data in testloader:\n",
    "        images, labels = data\n",
    "        outputs = net(images)\n",
    "        _, predicted = torch.max(outputs.data, 1)\n",
    "        total += labels.size(0)\n",
    "        correct += (predicted == labels).sum().item()\n",
    "\n",
    "print('Accuracy of the network on the 500 test images: %d %%' % (\n",
    "    100 * correct / total))"
   ]
  }
 ],
 "metadata": {
  "kernelspec": {
   "display_name": "Python 3",
   "language": "python",
   "name": "python3"
  },
  "language_info": {
   "codemirror_mode": {
    "name": "ipython",
    "version": 3
   },
   "file_extension": ".py",
   "mimetype": "text/x-python",
   "name": "python",
   "nbconvert_exporter": "python",
   "pygments_lexer": "ipython3",
   "version": "3.7.4"
  },
  "papermill": {
   "duration": 2971.122824,
   "end_time": "2020-09-12T13:13:57.704960",
   "environment_variables": {},
   "exception": null,
   "input_path": "__notebook__.ipynb",
   "output_path": "__notebook__.ipynb",
   "parameters": {},
   "start_time": "2020-09-12T12:24:26.582136",
   "version": "2.1.0"
  }
 },
 "nbformat": 4,
 "nbformat_minor": 4
}
