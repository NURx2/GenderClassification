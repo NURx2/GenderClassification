{
 "cells": [
  {
   "cell_type": "markdown",
   "metadata": {
    "papermill": {
     "duration": 0.01667,
     "end_time": "2020-09-12T12:24:31.806744",
     "exception": false,
     "start_time": "2020-09-12T12:24:31.790074",
     "status": "completed"
    },
    "tags": []
   },
   "source": [
    "<img src='task.png' width='500px'>"
   ]
  },
  {
   "cell_type": "code",
   "execution_count": 1,
   "metadata": {
    "collapsed": true,
    "execution": {
     "iopub.execute_input": "2020-09-12T12:24:31.847247Z",
     "iopub.status.busy": "2020-09-12T12:24:31.846451Z",
     "iopub.status.idle": "2020-09-12T12:25:57.320123Z",
     "shell.execute_reply": "2020-09-12T12:25:57.320726Z"
    },
    "papermill": {
     "duration": 85.498084,
     "end_time": "2020-09-12T12:25:57.320947",
     "exception": false,
     "start_time": "2020-09-12T12:24:31.822863",
     "status": "completed"
    },
    "tags": []
   },
   "outputs": [
    {
     "name": "stdout",
     "output_type": "stream",
     "text": [
      "Requirement already satisfied: torch in /opt/conda/lib/python3.7/site-packages (1.5.1)\r\n",
      "Requirement already satisfied: future in /opt/conda/lib/python3.7/site-packages (from torch) (0.18.2)\r\n",
      "Requirement already satisfied: numpy in /opt/conda/lib/python3.7/site-packages (from torch) (1.18.5)\r\n",
      "Requirement already satisfied: torchvision in /opt/conda/lib/python3.7/site-packages (0.6.0a0+35d732a)\r\n",
      "Requirement already satisfied: numpy in /opt/conda/lib/python3.7/site-packages (from torchvision) (1.18.5)\r\n",
      "Requirement already satisfied: torch in /opt/conda/lib/python3.7/site-packages (from torchvision) (1.5.1)\r\n",
      "Requirement already satisfied: pillow>=4.1.1 in /opt/conda/lib/python3.7/site-packages (from torchvision) (7.2.0)\r\n",
      "Requirement already satisfied: future in /opt/conda/lib/python3.7/site-packages (from torch->torchvision) (0.18.2)\r\n",
      "Requirement already satisfied: scikit-image in /opt/conda/lib/python3.7/site-packages (0.16.2)\r\n",
      "Requirement already satisfied: scipy>=0.19.0 in /opt/conda/lib/python3.7/site-packages (from scikit-image) (1.4.1)\r\n",
      "Requirement already satisfied: matplotlib!=3.0.0,>=2.0.0 in /opt/conda/lib/python3.7/site-packages (from scikit-image) (3.2.1)\r\n",
      "Requirement already satisfied: networkx>=2.0 in /opt/conda/lib/python3.7/site-packages (from scikit-image) (2.4)\r\n",
      "Requirement already satisfied: pillow>=4.3.0 in /opt/conda/lib/python3.7/site-packages (from scikit-image) (7.2.0)\r\n",
      "Requirement already satisfied: imageio>=2.3.0 in /opt/conda/lib/python3.7/site-packages (from scikit-image) (2.8.0)\r\n",
      "Requirement already satisfied: PyWavelets>=0.4.0 in /opt/conda/lib/python3.7/site-packages (from scikit-image) (1.1.1)\r\n",
      "Requirement already satisfied: numpy>=1.13.3 in /opt/conda/lib/python3.7/site-packages (from scipy>=0.19.0->scikit-image) (1.18.5)\r\n",
      "Requirement already satisfied: cycler>=0.10 in /opt/conda/lib/python3.7/site-packages (from matplotlib!=3.0.0,>=2.0.0->scikit-image) (0.10.0)\r\n",
      "Requirement already satisfied: kiwisolver>=1.0.1 in /opt/conda/lib/python3.7/site-packages (from matplotlib!=3.0.0,>=2.0.0->scikit-image) (1.2.0)\r\n",
      "Requirement already satisfied: pyparsing!=2.0.4,!=2.1.2,!=2.1.6,>=2.0.1 in /opt/conda/lib/python3.7/site-packages (from matplotlib!=3.0.0,>=2.0.0->scikit-image) (2.4.7)\r\n",
      "Requirement already satisfied: python-dateutil>=2.1 in /opt/conda/lib/python3.7/site-packages (from matplotlib!=3.0.0,>=2.0.0->scikit-image) (2.8.1)\r\n",
      "Requirement already satisfied: decorator>=4.3.0 in /opt/conda/lib/python3.7/site-packages (from networkx>=2.0->scikit-image) (4.4.2)\r\n",
      "Requirement already satisfied: six in /opt/conda/lib/python3.7/site-packages (from cycler>=0.10->matplotlib!=3.0.0,>=2.0.0->scikit-image) (1.14.0)\r\n"
     ]
    }
   ],
   "source": [
    "! python3 -m pip install torch\n",
    "! python3 -m pip install torchvision\n",
    "! python3 -m pip install scikit-image"
   ]
  },
  {
   "cell_type": "code",
   "execution_count": 2,
   "metadata": {
    "execution": {
     "iopub.execute_input": "2020-09-12T12:25:57.371636Z",
     "iopub.status.busy": "2020-09-12T12:25:57.370582Z",
     "iopub.status.idle": "2020-09-12T12:25:57.374219Z",
     "shell.execute_reply": "2020-09-12T12:25:57.373483Z"
    },
    "papermill": {
     "duration": 0.033712,
     "end_time": "2020-09-12T12:25:57.374368",
     "exception": false,
     "start_time": "2020-09-12T12:25:57.340656",
     "status": "completed"
    },
    "tags": []
   },
   "outputs": [],
   "source": [
    "import os\n",
    "import numpy as np\n",
    "import shutil\n",
    "from PIL import Image\n",
    "from matplotlib.pyplot import imshow\n",
    "from IPython.display import display\n",
    "%matplotlib inline"
   ]
  },
  {
   "cell_type": "markdown",
   "metadata": {
    "papermill": {
     "duration": 0.018752,
     "end_time": "2020-09-12T12:25:57.414422",
     "exception": false,
     "start_time": "2020-09-12T12:25:57.395670",
     "status": "completed"
    },
    "tags": []
   },
   "source": [
    "<h1>Data Processing</h1>"
   ]
  },
  {
   "cell_type": "code",
   "execution_count": 3,
   "metadata": {
    "execution": {
     "iopub.execute_input": "2020-09-12T12:25:57.458813Z",
     "iopub.status.busy": "2020-09-12T12:25:57.458054Z",
     "iopub.status.idle": "2020-09-12T12:25:57.461457Z",
     "shell.execute_reply": "2020-09-12T12:25:57.460699Z"
    },
    "papermill": {
     "duration": 0.028072,
     "end_time": "2020-09-12T12:25:57.461587",
     "exception": false,
     "start_time": "2020-09-12T12:25:57.433515",
     "status": "completed"
    },
    "tags": []
   },
   "outputs": [],
   "source": [
    "categories = ('male', 'female')\n",
    "root_dir = 'data'"
   ]
  },
  {
   "cell_type": "code",
   "execution_count": 4,
   "metadata": {
    "collapsed": true,
    "execution": {
     "iopub.execute_input": "2020-09-12T12:25:57.514919Z",
     "iopub.status.busy": "2020-09-12T12:25:57.509280Z",
     "iopub.status.idle": "2020-09-12T12:25:57.561947Z",
     "shell.execute_reply": "2020-09-12T12:25:57.562642Z"
    },
    "papermill": {
     "duration": 0.081771,
     "end_time": "2020-09-12T12:25:57.562808",
     "exception": false,
     "start_time": "2020-09-12T12:25:57.481037",
     "status": "completed"
    },
    "tags": []
   },
   "outputs": [
    {
     "ename": "FileNotFoundError",
     "evalue": "[Errno 2] No such file or directory: 'data/train/male'",
     "output_type": "error",
     "traceback": [
      "\u001b[0;31m---------------------------------------------------------------------------\u001b[0m",
      "\u001b[0;31mFileNotFoundError\u001b[0m                         Traceback (most recent call last)",
      "\u001b[0;32m<ipython-input-4-ab335ecbeda2>\u001b[0m in \u001b[0;36m<module>\u001b[0;34m\u001b[0m\n\u001b[1;32m      2\u001b[0m \u001b[0;34m\u001b[0m\u001b[0m\n\u001b[1;32m      3\u001b[0m \u001b[0;32mfor\u001b[0m \u001b[0mcategory\u001b[0m \u001b[0;32min\u001b[0m \u001b[0mcategories\u001b[0m\u001b[0;34m:\u001b[0m\u001b[0;34m\u001b[0m\u001b[0;34m\u001b[0m\u001b[0m\n\u001b[0;32m----> 4\u001b[0;31m     \u001b[0mshutil\u001b[0m\u001b[0;34m.\u001b[0m\u001b[0mrmtree\u001b[0m\u001b[0;34m(\u001b[0m\u001b[0mroot_dir\u001b[0m \u001b[0;34m+\u001b[0m\u001b[0;34m'/train/'\u001b[0m \u001b[0;34m+\u001b[0m \u001b[0mcategory\u001b[0m\u001b[0;34m)\u001b[0m\u001b[0;34m\u001b[0m\u001b[0;34m\u001b[0m\u001b[0m\n\u001b[0m\u001b[1;32m      5\u001b[0m     \u001b[0mos\u001b[0m\u001b[0;34m.\u001b[0m\u001b[0mmakedirs\u001b[0m\u001b[0;34m(\u001b[0m\u001b[0mroot_dir\u001b[0m \u001b[0;34m+\u001b[0m\u001b[0;34m'/train/'\u001b[0m \u001b[0;34m+\u001b[0m \u001b[0mcategory\u001b[0m\u001b[0;34m)\u001b[0m\u001b[0;34m\u001b[0m\u001b[0;34m\u001b[0m\u001b[0m\n\u001b[1;32m      6\u001b[0m     \u001b[0mshutil\u001b[0m\u001b[0;34m.\u001b[0m\u001b[0mrmtree\u001b[0m\u001b[0;34m(\u001b[0m\u001b[0mroot_dir\u001b[0m \u001b[0;34m+\u001b[0m\u001b[0;34m'/test/'\u001b[0m \u001b[0;34m+\u001b[0m \u001b[0mcategory\u001b[0m\u001b[0;34m)\u001b[0m\u001b[0;34m\u001b[0m\u001b[0;34m\u001b[0m\u001b[0m\n",
      "\u001b[0;32m/opt/conda/lib/python3.7/shutil.py\u001b[0m in \u001b[0;36mrmtree\u001b[0;34m(path, ignore_errors, onerror)\u001b[0m\n\u001b[1;32m    483\u001b[0m             \u001b[0morig_st\u001b[0m \u001b[0;34m=\u001b[0m \u001b[0mos\u001b[0m\u001b[0;34m.\u001b[0m\u001b[0mlstat\u001b[0m\u001b[0;34m(\u001b[0m\u001b[0mpath\u001b[0m\u001b[0;34m)\u001b[0m\u001b[0;34m\u001b[0m\u001b[0;34m\u001b[0m\u001b[0m\n\u001b[1;32m    484\u001b[0m         \u001b[0;32mexcept\u001b[0m \u001b[0mException\u001b[0m\u001b[0;34m:\u001b[0m\u001b[0;34m\u001b[0m\u001b[0;34m\u001b[0m\u001b[0m\n\u001b[0;32m--> 485\u001b[0;31m             \u001b[0monerror\u001b[0m\u001b[0;34m(\u001b[0m\u001b[0mos\u001b[0m\u001b[0;34m.\u001b[0m\u001b[0mlstat\u001b[0m\u001b[0;34m,\u001b[0m \u001b[0mpath\u001b[0m\u001b[0;34m,\u001b[0m \u001b[0msys\u001b[0m\u001b[0;34m.\u001b[0m\u001b[0mexc_info\u001b[0m\u001b[0;34m(\u001b[0m\u001b[0;34m)\u001b[0m\u001b[0;34m)\u001b[0m\u001b[0;34m\u001b[0m\u001b[0;34m\u001b[0m\u001b[0m\n\u001b[0m\u001b[1;32m    486\u001b[0m             \u001b[0;32mreturn\u001b[0m\u001b[0;34m\u001b[0m\u001b[0;34m\u001b[0m\u001b[0m\n\u001b[1;32m    487\u001b[0m         \u001b[0;32mtry\u001b[0m\u001b[0;34m:\u001b[0m\u001b[0;34m\u001b[0m\u001b[0;34m\u001b[0m\u001b[0m\n",
      "\u001b[0;32m/opt/conda/lib/python3.7/shutil.py\u001b[0m in \u001b[0;36mrmtree\u001b[0;34m(path, ignore_errors, onerror)\u001b[0m\n\u001b[1;32m    481\u001b[0m         \u001b[0;31m# lstat()/open()/fstat() trick.\u001b[0m\u001b[0;34m\u001b[0m\u001b[0;34m\u001b[0m\u001b[0;34m\u001b[0m\u001b[0m\n\u001b[1;32m    482\u001b[0m         \u001b[0;32mtry\u001b[0m\u001b[0;34m:\u001b[0m\u001b[0;34m\u001b[0m\u001b[0;34m\u001b[0m\u001b[0m\n\u001b[0;32m--> 483\u001b[0;31m             \u001b[0morig_st\u001b[0m \u001b[0;34m=\u001b[0m \u001b[0mos\u001b[0m\u001b[0;34m.\u001b[0m\u001b[0mlstat\u001b[0m\u001b[0;34m(\u001b[0m\u001b[0mpath\u001b[0m\u001b[0;34m)\u001b[0m\u001b[0;34m\u001b[0m\u001b[0;34m\u001b[0m\u001b[0m\n\u001b[0m\u001b[1;32m    484\u001b[0m         \u001b[0;32mexcept\u001b[0m \u001b[0mException\u001b[0m\u001b[0;34m:\u001b[0m\u001b[0;34m\u001b[0m\u001b[0;34m\u001b[0m\u001b[0m\n\u001b[1;32m    485\u001b[0m             \u001b[0monerror\u001b[0m\u001b[0;34m(\u001b[0m\u001b[0mos\u001b[0m\u001b[0;34m.\u001b[0m\u001b[0mlstat\u001b[0m\u001b[0;34m,\u001b[0m \u001b[0mpath\u001b[0m\u001b[0;34m,\u001b[0m \u001b[0msys\u001b[0m\u001b[0;34m.\u001b[0m\u001b[0mexc_info\u001b[0m\u001b[0;34m(\u001b[0m\u001b[0;34m)\u001b[0m\u001b[0;34m)\u001b[0m\u001b[0;34m\u001b[0m\u001b[0;34m\u001b[0m\u001b[0m\n",
      "\u001b[0;31mFileNotFoundError\u001b[0m: [Errno 2] No such file or directory: 'data/train/male'"
     ]
    }
   ],
   "source": [
    "test_ratio = 0.1\n",
    "\n",
    "for category in categories:\n",
    "    shutil.rmtree(root_dir +'/train/' + category)\n",
    "    os.makedirs(root_dir +'/train/' + category)\n",
    "    shutil.rmtree(root_dir +'/test/' + category)\n",
    "    os.makedirs(root_dir +'/test/' + category)\n",
    "    \n",
    "    copy_from_dir = 'photos/' + category\n",
    "    \n",
    "    all_filenames = os.listdir(copy_from_dir)\n",
    "    np.random.shuffle(all_filenames)\n",
    "    train_filenames, test_filenames = np.split(\n",
    "        np.array(all_filenames),\n",
    "        [int(len(all_filenames) * (1 - test_ratio))]\n",
    "    )\n",
    "    train_filenames = [copy_from_dir + '/' + name for name in train_filenames.tolist()]\n",
    "    test_filenames = [copy_from_dir + '/' + name for name in test_filenames.tolist()]\n",
    "    \n",
    "    print(f'Category {category}.')\n",
    "    print('Number of total images: ', len(all_filenames))\n",
    "    print('Training: ', len(train_filenames))\n",
    "    print('Testing: ', len(test_filenames))\n",
    "    \n",
    "    for name in train_filenames:\n",
    "        shutil.copy(name, root_dir + '/train/' + category)\n",
    "\n",
    "    for name in test_filenames:\n",
    "        shutil.copy(name, root_dir +'/test/' + category)"
   ]
  },
  {
   "cell_type": "markdown",
   "metadata": {
    "papermill": {
     "duration": 0.019627,
     "end_time": "2020-09-12T12:25:57.602467",
     "exception": false,
     "start_time": "2020-09-12T12:25:57.582840",
     "status": "completed"
    },
    "tags": []
   },
   "source": [
    "to learn images ratio:"
   ]
  },
  {
   "cell_type": "code",
   "execution_count": 5,
   "metadata": {
    "collapsed": true,
    "execution": {
     "iopub.execute_input": "2020-09-12T12:25:57.663184Z",
     "iopub.status.busy": "2020-09-12T12:25:57.651554Z",
     "iopub.status.idle": "2020-09-12T12:25:57.667973Z",
     "shell.execute_reply": "2020-09-12T12:25:57.667184Z"
    },
    "papermill": {
     "duration": 0.045005,
     "end_time": "2020-09-12T12:25:57.668102",
     "exception": false,
     "start_time": "2020-09-12T12:25:57.623097",
     "status": "completed"
    },
    "tags": []
   },
   "outputs": [
    {
     "ename": "FileNotFoundError",
     "evalue": "[Errno 2] No such file or directory: 'photos/male'",
     "output_type": "error",
     "traceback": [
      "\u001b[0;31m---------------------------------------------------------------------------\u001b[0m",
      "\u001b[0;31mFileNotFoundError\u001b[0m                         Traceback (most recent call last)",
      "\u001b[0;32m<ipython-input-5-e9ce3499a3cb>\u001b[0m in \u001b[0;36m<module>\u001b[0;34m\u001b[0m\n\u001b[1;32m      8\u001b[0m     \u001b[0msource_dir\u001b[0m \u001b[0;34m=\u001b[0m \u001b[0;34m'photos/'\u001b[0m \u001b[0;34m+\u001b[0m \u001b[0mcategory\u001b[0m\u001b[0;34m\u001b[0m\u001b[0;34m\u001b[0m\u001b[0m\n\u001b[1;32m      9\u001b[0m \u001b[0;34m\u001b[0m\u001b[0m\n\u001b[0;32m---> 10\u001b[0;31m     \u001b[0;32mfor\u001b[0m \u001b[0mphoto\u001b[0m \u001b[0;32min\u001b[0m \u001b[0mos\u001b[0m\u001b[0;34m.\u001b[0m\u001b[0mlistdir\u001b[0m\u001b[0;34m(\u001b[0m\u001b[0msource_dir\u001b[0m\u001b[0;34m)\u001b[0m\u001b[0;34m:\u001b[0m\u001b[0;34m\u001b[0m\u001b[0;34m\u001b[0m\u001b[0m\n\u001b[0m\u001b[1;32m     11\u001b[0m         \u001b[0mim\u001b[0m \u001b[0;34m=\u001b[0m \u001b[0mImage\u001b[0m\u001b[0;34m.\u001b[0m\u001b[0mopen\u001b[0m\u001b[0;34m(\u001b[0m\u001b[0msource_dir\u001b[0m \u001b[0;34m+\u001b[0m \u001b[0;34m'/'\u001b[0m \u001b[0;34m+\u001b[0m \u001b[0mphoto\u001b[0m\u001b[0;34m)\u001b[0m\u001b[0;34m\u001b[0m\u001b[0;34m\u001b[0m\u001b[0m\n\u001b[1;32m     12\u001b[0m         \u001b[0mwidth\u001b[0m\u001b[0;34m,\u001b[0m \u001b[0mheight\u001b[0m \u001b[0;34m=\u001b[0m \u001b[0mim\u001b[0m\u001b[0;34m.\u001b[0m\u001b[0msize\u001b[0m\u001b[0;34m\u001b[0m\u001b[0;34m\u001b[0m\u001b[0m\n",
      "\u001b[0;31mFileNotFoundError\u001b[0m: [Errno 2] No such file or directory: 'photos/male'"
     ]
    }
   ],
   "source": [
    "max_ratio = 0\n",
    "min_width = 1000000000\n",
    "max_width = 0\n",
    "min_height = 100000000\n",
    "max_height = 0\n",
    "\n",
    "for category in categories:\n",
    "    source_dir = 'photos/' + category\n",
    "    \n",
    "    for photo in os.listdir(source_dir):\n",
    "        im = Image.open(source_dir + '/' + photo)\n",
    "        width, height = im.size\n",
    "        if min_width > width:\n",
    "            min_width = width\n",
    "        if max_width < width:\n",
    "            max_width = width\n",
    "        if min_height > height:\n",
    "            min_height = height\n",
    "        if max_height < height:\n",
    "            max_height = height\n",
    "        if max(width, height) / min(width, height) > max_ratio:\n",
    "            max_ratio = max(width, height) / min(width, height)\n",
    "\n",
    "print(f'min width: {min_width}')\n",
    "print(f'max width: {max_width}')\n",
    "print(f'min height: {min_height}')\n",
    "print(f'max height: {max_height}')\n",
    "print(f'max ratio: {max_ratio}')"
   ]
  },
  {
   "cell_type": "code",
   "execution_count": 6,
   "metadata": {
    "collapsed": true,
    "execution": {
     "iopub.execute_input": "2020-09-12T12:25:57.719952Z",
     "iopub.status.busy": "2020-09-12T12:25:57.718919Z",
     "iopub.status.idle": "2020-09-12T12:25:57.734708Z",
     "shell.execute_reply": "2020-09-12T12:25:57.734065Z"
    },
    "papermill": {
     "duration": 0.045499,
     "end_time": "2020-09-12T12:25:57.734843",
     "exception": false,
     "start_time": "2020-09-12T12:25:57.689344",
     "status": "completed"
    },
    "tags": []
   },
   "outputs": [
    {
     "ename": "FileNotFoundError",
     "evalue": "[Errno 2] No such file or directory: 'photos/male'",
     "output_type": "error",
     "traceback": [
      "\u001b[0;31m---------------------------------------------------------------------------\u001b[0m",
      "\u001b[0;31mFileNotFoundError\u001b[0m                         Traceback (most recent call last)",
      "\u001b[0;32m<ipython-input-6-0128ad818d4c>\u001b[0m in \u001b[0;36m<module>\u001b[0;34m\u001b[0m\n\u001b[1;32m      4\u001b[0m     \u001b[0msource_dir\u001b[0m \u001b[0;34m=\u001b[0m \u001b[0;34m'photos/'\u001b[0m \u001b[0;34m+\u001b[0m \u001b[0mcategory\u001b[0m\u001b[0;34m\u001b[0m\u001b[0;34m\u001b[0m\u001b[0m\n\u001b[1;32m      5\u001b[0m \u001b[0;34m\u001b[0m\u001b[0m\n\u001b[0;32m----> 6\u001b[0;31m     \u001b[0;32mfor\u001b[0m \u001b[0mphoto\u001b[0m \u001b[0;32min\u001b[0m \u001b[0mos\u001b[0m\u001b[0;34m.\u001b[0m\u001b[0mlistdir\u001b[0m\u001b[0;34m(\u001b[0m\u001b[0msource_dir\u001b[0m\u001b[0;34m)\u001b[0m\u001b[0;34m:\u001b[0m\u001b[0;34m\u001b[0m\u001b[0;34m\u001b[0m\u001b[0m\n\u001b[0m\u001b[1;32m      7\u001b[0m         \u001b[0mim\u001b[0m \u001b[0;34m=\u001b[0m \u001b[0mImage\u001b[0m\u001b[0;34m.\u001b[0m\u001b[0mopen\u001b[0m\u001b[0;34m(\u001b[0m\u001b[0msource_dir\u001b[0m \u001b[0;34m+\u001b[0m \u001b[0;34m'/'\u001b[0m \u001b[0;34m+\u001b[0m \u001b[0mphoto\u001b[0m\u001b[0;34m)\u001b[0m\u001b[0;34m\u001b[0m\u001b[0;34m\u001b[0m\u001b[0m\n\u001b[1;32m      8\u001b[0m         \u001b[0mwidth\u001b[0m\u001b[0;34m,\u001b[0m \u001b[0mheight\u001b[0m \u001b[0;34m=\u001b[0m \u001b[0mim\u001b[0m\u001b[0;34m.\u001b[0m\u001b[0msize\u001b[0m\u001b[0;34m\u001b[0m\u001b[0;34m\u001b[0m\u001b[0m\n",
      "\u001b[0;31mFileNotFoundError\u001b[0m: [Errno 2] No such file or directory: 'photos/male'"
     ]
    }
   ],
   "source": [
    "cnt_small = 0\n",
    "\n",
    "for category in categories:\n",
    "    source_dir = 'photos/' + category\n",
    "    \n",
    "    for photo in os.listdir(source_dir):\n",
    "        im = Image.open(source_dir + '/' + photo)\n",
    "        width, height = im.size\n",
    "        cnt_small += (width < 32 or height < 32)\n",
    "        if height == max_height:\n",
    "            display(im)\n",
    "        if width == max_width:\n",
    "            display(im)\n",
    "        if abs(max(width, height) / min(width, height) - max_ratio) < 0.001:\n",
    "            display(im)\n",
    "\n",
    "print(f'number of small images: {cnt_small}')"
   ]
  },
  {
   "cell_type": "markdown",
   "metadata": {
    "papermill": {
     "duration": 0.020744,
     "end_time": "2020-09-12T12:25:57.776971",
     "exception": false,
     "start_time": "2020-09-12T12:25:57.756227",
     "status": "completed"
    },
    "tags": []
   },
   "source": [
    "<h1>Model Training</h1>"
   ]
  },
  {
   "cell_type": "code",
   "execution_count": 7,
   "metadata": {
    "execution": {
     "iopub.execute_input": "2020-09-12T12:25:57.825604Z",
     "iopub.status.busy": "2020-09-12T12:25:57.824637Z",
     "iopub.status.idle": "2020-09-12T12:25:59.359823Z",
     "shell.execute_reply": "2020-09-12T12:25:59.358760Z"
    },
    "papermill": {
     "duration": 1.56181,
     "end_time": "2020-09-12T12:25:59.359983",
     "exception": false,
     "start_time": "2020-09-12T12:25:57.798173",
     "status": "completed"
    },
    "tags": []
   },
   "outputs": [],
   "source": [
    "import torch\n",
    "import torchvision\n",
    "import torchvision.transforms as transforms\n",
    "import torch.nn as nn\n",
    "import torch.optim as optim"
   ]
  },
  {
   "cell_type": "code",
   "execution_count": 8,
   "metadata": {
    "execution": {
     "iopub.execute_input": "2020-09-12T12:25:59.409546Z",
     "iopub.status.busy": "2020-09-12T12:25:59.408421Z",
     "iopub.status.idle": "2020-09-12T12:25:59.411315Z",
     "shell.execute_reply": "2020-09-12T12:25:59.411876Z"
    },
    "papermill": {
     "duration": 0.029815,
     "end_time": "2020-09-12T12:25:59.412036",
     "exception": false,
     "start_time": "2020-09-12T12:25:59.382221",
     "status": "completed"
    },
    "tags": []
   },
   "outputs": [],
   "source": [
    "im_size = 32"
   ]
  },
  {
   "cell_type": "code",
   "execution_count": 9,
   "metadata": {
    "execution": {
     "iopub.execute_input": "2020-09-12T12:25:59.462822Z",
     "iopub.status.busy": "2020-09-12T12:25:59.462043Z",
     "iopub.status.idle": "2020-09-12T12:25:59.465792Z",
     "shell.execute_reply": "2020-09-12T12:25:59.465194Z"
    },
    "papermill": {
     "duration": 0.031813,
     "end_time": "2020-09-12T12:25:59.465917",
     "exception": false,
     "start_time": "2020-09-12T12:25:59.434104",
     "status": "completed"
    },
    "tags": []
   },
   "outputs": [],
   "source": [
    "transform = transforms.Compose([\n",
    "    #transforms.ToPILImage(),\n",
    "    # images have different sizes, so we need to resize them\n",
    "    transforms.Resize((im_size, im_size), interpolation=2),\n",
    "    transforms.ToTensor(),\n",
    "    # transform PIL image range [0, 1] to [-1, 1] (this helps in faster convergence)\n",
    "    transforms.Normalize((.5, .5, .5), (.5, .5, .5))])                                 "
   ]
  },
  {
   "cell_type": "code",
   "execution_count": 10,
   "metadata": {
    "execution": {
     "iopub.execute_input": "2020-09-12T12:25:59.518710Z",
     "iopub.status.busy": "2020-09-12T12:25:59.517623Z",
     "iopub.status.idle": "2020-09-12T12:25:59.521080Z",
     "shell.execute_reply": "2020-09-12T12:25:59.520372Z"
    },
    "papermill": {
     "duration": 0.033347,
     "end_time": "2020-09-12T12:25:59.521207",
     "exception": false,
     "start_time": "2020-09-12T12:25:59.487860",
     "status": "completed"
    },
    "tags": []
   },
   "outputs": [],
   "source": [
    "train_str = 'train'\n",
    "test_str = 'test'\n",
    "\n",
    "def load_dataset(name):\n",
    "    data_path = f'../input/male-female-faces/data/{name}/'\n",
    "    dataset = torchvision.datasets.ImageFolder(\n",
    "        root=data_path,\n",
    "        transform=transform\n",
    "    )\n",
    "    print(dataset)\n",
    "    loader = torch.utils.data.DataLoader(\n",
    "        dataset,\n",
    "        batch_size=64,\n",
    "        num_workers=0,\n",
    "        shuffle=True\n",
    "    )\n",
    "    return loader"
   ]
  },
  {
   "cell_type": "code",
   "execution_count": 11,
   "metadata": {
    "execution": {
     "iopub.execute_input": "2020-09-12T12:25:59.570801Z",
     "iopub.status.busy": "2020-09-12T12:25:59.569697Z",
     "iopub.status.idle": "2020-09-12T12:26:42.914854Z",
     "shell.execute_reply": "2020-09-12T12:26:42.914050Z"
    },
    "papermill": {
     "duration": 43.371887,
     "end_time": "2020-09-12T12:26:42.915035",
     "exception": false,
     "start_time": "2020-09-12T12:25:59.543148",
     "status": "completed"
    },
    "tags": []
   },
   "outputs": [
    {
     "name": "stdout",
     "output_type": "stream",
     "text": [
      "Dataset ImageFolder\n",
      "    Number of datapoints: 90000\n",
      "    Root location: ../input/male-female-faces/data/train/\n",
      "    StandardTransform\n",
      "Transform: Compose(\n",
      "               Resize(size=(32, 32), interpolation=PIL.Image.BILINEAR)\n",
      "               ToTensor()\n",
      "               Normalize(mean=(0.5, 0.5, 0.5), std=(0.5, 0.5, 0.5))\n",
      "           )\n",
      "Dataset ImageFolder\n",
      "    Number of datapoints: 10002\n",
      "    Root location: ../input/male-female-faces/data/test/\n",
      "    StandardTransform\n",
      "Transform: Compose(\n",
      "               Resize(size=(32, 32), interpolation=PIL.Image.BILINEAR)\n",
      "               ToTensor()\n",
      "               Normalize(mean=(0.5, 0.5, 0.5), std=(0.5, 0.5, 0.5))\n",
      "           )\n"
     ]
    }
   ],
   "source": [
    "trainloader = load_dataset(train_str)\n",
    "testloader = load_dataset(test_str)"
   ]
  },
  {
   "cell_type": "code",
   "execution_count": 12,
   "metadata": {
    "execution": {
     "iopub.execute_input": "2020-09-12T12:26:42.975253Z",
     "iopub.status.busy": "2020-09-12T12:26:42.969527Z",
     "iopub.status.idle": "2020-09-12T12:26:43.000767Z",
     "shell.execute_reply": "2020-09-12T12:26:43.000087Z"
    },
    "papermill": {
     "duration": 0.062877,
     "end_time": "2020-09-12T12:26:43.000898",
     "exception": false,
     "start_time": "2020-09-12T12:26:42.938021",
     "status": "completed"
    },
    "tags": []
   },
   "outputs": [],
   "source": [
    "class Net(nn.Module):\n",
    "    def __init__(self):\n",
    "        super(Net, self).__init__()\n",
    "        self.conv1 = nn.Conv2d(3, 6, 5)\n",
    "        self.pool = nn.MaxPool2d(2, 2)  # to calculate max of input patch values\n",
    "        self.conv2 = nn.Conv2d(6, 16, 5)\n",
    "        self.fc1 = nn.Linear(16 * 5 * 5, 120)  # fully connected layer\n",
    "        self.fc2 = nn.Linear(120, 84)\n",
    "        self.fc3 = nn.Linear(84, len(categories))\n",
    "\n",
    "    def forward(self, x):\n",
    "        x = self.pool(nn.functional.relu(self.conv1(x)))\n",
    "        x = self.pool(nn.functional.relu(self.conv2(x)))\n",
    "        x = x.view(-1, 16 * 5 * 5)  # make matrix (from tensor) having 16*5*5 columns (= numpy reshape)\n",
    "        x = nn.functional.relu(self.fc1(x))\n",
    "        x = nn.functional.relu(self.fc2(x))\n",
    "        x = self.fc3(x)\n",
    "        return x\n",
    "\n",
    "\n",
    "net = Net()"
   ]
  },
  {
   "cell_type": "code",
   "execution_count": 13,
   "metadata": {
    "execution": {
     "iopub.execute_input": "2020-09-12T12:26:43.054109Z",
     "iopub.status.busy": "2020-09-12T12:26:43.053199Z",
     "iopub.status.idle": "2020-09-12T12:26:43.056497Z",
     "shell.execute_reply": "2020-09-12T12:26:43.055903Z"
    },
    "papermill": {
     "duration": 0.032343,
     "end_time": "2020-09-12T12:26:43.056627",
     "exception": false,
     "start_time": "2020-09-12T12:26:43.024284",
     "status": "completed"
    },
    "tags": []
   },
   "outputs": [],
   "source": [
    "criterion = nn.CrossEntropyLoss()\n",
    "optimizer = optim.SGD(net.parameters(), lr=0.001, momentum=0.9)"
   ]
  },
  {
   "cell_type": "code",
   "execution_count": 14,
   "metadata": {
    "execution": {
     "iopub.execute_input": "2020-09-12T12:26:43.118681Z",
     "iopub.status.busy": "2020-09-12T12:26:43.117701Z",
     "iopub.status.idle": "2020-09-12T13:13:16.574397Z",
     "shell.execute_reply": "2020-09-12T13:13:16.575222Z"
    },
    "papermill": {
     "duration": 2793.492046,
     "end_time": "2020-09-12T13:13:16.575527",
     "exception": false,
     "start_time": "2020-09-12T12:26:43.083481",
     "status": "completed"
    },
    "tags": []
   },
   "outputs": [
    {
     "name": "stdout",
     "output_type": "stream",
     "text": [
      "Finished Training\n"
     ]
    }
   ],
   "source": [
    "for epoch in range(9):  # loop over the dataset multiple times\n",
    "\n",
    "    running_loss = 0.0\n",
    "    for i, (inputs, labels) in enumerate(trainloader):\n",
    "        # zero the parameter gradients\n",
    "        optimizer.zero_grad()\n",
    "\n",
    "        # forward + backward + optimize\n",
    "        outputs = net(inputs)\n",
    "        loss = criterion(outputs, labels)\n",
    "        loss.backward()\n",
    "        optimizer.step()\n",
    "\n",
    "        # print statistics\n",
    "        running_loss += loss.item()\n",
    "        if i % 2000 == 1999:    # print every 2000 mini-batches\n",
    "            print('[%d, %5d] loss: %.3f' %\n",
    "                  (epoch + 1, i + 1, running_loss / 2000))\n",
    "            running_loss = 0.0\n",
    "\n",
    "print('Finished Training')"
   ]
  },
  {
   "cell_type": "code",
   "execution_count": 15,
   "metadata": {
    "execution": {
     "iopub.execute_input": "2020-09-12T13:13:16.631030Z",
     "iopub.status.busy": "2020-09-12T13:13:16.630093Z",
     "iopub.status.idle": "2020-09-12T13:13:16.640117Z",
     "shell.execute_reply": "2020-09-12T13:13:16.639486Z"
    },
    "papermill": {
     "duration": 0.039807,
     "end_time": "2020-09-12T13:13:16.640240",
     "exception": false,
     "start_time": "2020-09-12T13:13:16.600433",
     "status": "completed"
    },
    "tags": []
   },
   "outputs": [],
   "source": [
    "PATH = './model.pth'\n",
    "torch.save(net.state_dict(), PATH)"
   ]
  },
  {
   "cell_type": "code",
   "execution_count": 16,
   "metadata": {
    "execution": {
     "iopub.execute_input": "2020-09-12T13:13:16.697968Z",
     "iopub.status.busy": "2020-09-12T13:13:16.697181Z",
     "iopub.status.idle": "2020-09-12T13:13:57.568894Z",
     "shell.execute_reply": "2020-09-12T13:13:57.569595Z"
    },
    "papermill": {
     "duration": 40.90517,
     "end_time": "2020-09-12T13:13:57.569777",
     "exception": false,
     "start_time": "2020-09-12T13:13:16.664607",
     "status": "completed"
    },
    "tags": []
   },
   "outputs": [
    {
     "name": "stdout",
     "output_type": "stream",
     "text": [
      "Accuracy of the network on the 500 test images: 94 %\n"
     ]
    }
   ],
   "source": [
    "correct = 0\n",
    "total = 0\n",
    "with torch.no_grad():\n",
    "    for data in testloader:\n",
    "        images, labels = data\n",
    "        outputs = net(images)\n",
    "        _, predicted = torch.max(outputs.data, 1)\n",
    "        total += labels.size(0)\n",
    "        correct += (predicted == labels).sum().item()\n",
    "\n",
    "print('Accuracy of the network on the 500 test images: %d %%' % (\n",
    "    100 * correct / total))"
   ]
  }
 ],
 "metadata": {
  "kernelspec": {
   "display_name": "Python 3",
   "language": "python",
   "name": "python3"
  },
  "language_info": {
   "codemirror_mode": {
    "name": "ipython",
    "version": 3
   },
   "file_extension": ".py",
   "mimetype": "text/x-python",
   "name": "python",
   "nbconvert_exporter": "python",
   "pygments_lexer": "ipython3",
   "version": "3.7.4"
  },
  "papermill": {
   "duration": 2971.122824,
   "end_time": "2020-09-12T13:13:57.704960",
   "environment_variables": {},
   "exception": null,
   "input_path": "__notebook__.ipynb",
   "output_path": "__notebook__.ipynb",
   "parameters": {},
   "start_time": "2020-09-12T12:24:26.582136",
   "version": "2.1.0"
  }
 },
 "nbformat": 4,
 "nbformat_minor": 4
}
